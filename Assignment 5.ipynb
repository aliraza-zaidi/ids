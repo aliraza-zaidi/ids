{
 "cells": [
  {
   "cell_type": "markdown",
   "id": "d8f77097-97db-49db-9454-89b3277ee467",
   "metadata": {},
   "source": [
    "# **Introduction to Data Science**"
   ]
  },
  {
   "cell_type": "markdown",
   "id": "cedfbe68-671d-482e-89cc-2acc6e725aeb",
   "metadata": {},
   "source": [
    "# **Assignment 5**"
   ]
  },
  {
   "cell_type": "markdown",
   "id": "73aa40b5-6338-4ad6-ba39-46212fdb5a9b",
   "metadata": {},
   "source": [
    "## *BSDSF22M011 - Muhammad Ali Raza*"
   ]
  },
  {
   "cell_type": "markdown",
   "id": "faa2324e-82d3-4a3f-b71f-c564461bb389",
   "metadata": {},
   "source": [
    "# **Task 1**"
   ]
  },
  {
   "cell_type": "markdown",
   "id": "f9085dcb-85c4-49bf-92d6-2cb8b55cd88a",
   "metadata": {},
   "source": [
    "## For sales.csv:"
   ]
  },
  {
   "cell_type": "code",
   "execution_count": null,
   "id": "d0c54b0e-4f4c-43ab-9d2b-fd5b63d93a22",
   "metadata": {},
   "outputs": [],
   "source": [
    "import pandas as pd\n",
    "\n",
    "sales = pd.read_csv(\"sales.csv\")\n",
    "print(sales.head())\n",
    "rows, cols = sales.shape\n",
    "print(\"Total rows are {} and total columns are {}\\n\".format(rows,cols))\n",
    "\n",
    "print(\"Checking for missing values\\n\")\n",
    "print(sales.isna().sum())\n",
    "print(\"\\nDataset does not contain missing values\")"
   ]
  },
  {
   "cell_type": "markdown",
   "id": "635190be-c838-4974-af34-a27ac064e1ed",
   "metadata": {},
   "source": [
    "## For customers.csv:"
   ]
  },
  {
   "cell_type": "code",
   "execution_count": 23,
   "id": "2757fbcb-7693-4f15-90af-03a7b877d239",
   "metadata": {},
   "outputs": [
    {
     "name": "stdout",
     "output_type": "stream",
     "text": [
      "   CustomerID  Age         City\n",
      "0           1   22     New York\n",
      "1           2   23  Los Angeles\n",
      "2           3   24      Chicago\n",
      "3           4   25      Houston\n",
      "4           5   26      Phoenix\n",
      "Total rows are 100 and total columns are 3\n",
      "\n",
      "Checking for missing values\n",
      "\n",
      "CustomerID    0\n",
      "Age           0\n",
      "City          0\n",
      "dtype: int64\n",
      "\n",
      "Dataset does not contain missing values\n"
     ]
    }
   ],
   "source": [
    "import pandas as pd\n",
    "\n",
    "customers = pd.read_csv(\"customers.csv\")\n",
    "print(customers.head())\n",
    "rows, cols = customers.shape\n",
    "print(\"Total rows are {} and total columns are {}\\n\".format(rows,cols))\n",
    "\n",
    "print(\"Checking for missing values\\n\")\n",
    "print(customers.isna().sum())\n",
    "print(\"\\nDataset does not contain missing values\")"
   ]
  },
  {
   "cell_type": "markdown",
   "id": "3c3a1827-8858-46ad-8c99-7b69c74a4a71",
   "metadata": {},
   "source": [
    "# **Task 2**"
   ]
  },
  {
   "cell_type": "code",
   "execution_count": 39,
   "id": "29b61364-849c-4a46-9a2e-d34ae979bb99",
   "metadata": {},
   "outputs": [
    {
     "name": "stdout",
     "output_type": "stream",
     "text": [
      "Dataframe takes 0.004994144000193046 seconds\n",
      "Dictionary takes 0.00023233199999594945 seconds\n"
     ]
    }
   ],
   "source": [
    "import pandas as pd\n",
    "import timeit\n",
    "\n",
    "customers_df = pd.read_csv(\"customers.csv\")\n",
    "customers_dict = customers_df.to_dict(orient='records')\n",
    "\n",
    "def filter_df(df):\n",
    "    return df[df['City']== 'Los Angeles']\n",
    "\n",
    "def filter_dict(dic_list):\n",
    "    return [customer for customer in dic_list if customer['City'] == 'Los Angeles']\n",
    "\n",
    "df_exec_time = timeit.timeit(lambda: filter_df(customers_df), number=10)\n",
    "dict_exec_time = timeit.timeit(lambda: filter_dict(customers_dict), number=10)\n",
    "print(f\"Dataframe takes {df_exec_time} seconds\")\n",
    "print(f\"Dictionary takes {dict_exec_time} seconds\")"
   ]
  },
  {
   "cell_type": "markdown",
   "id": "429eae60-a7a4-40d7-993b-ee36f72aafaf",
   "metadata": {},
   "source": [
    "# **Task 3**"
   ]
  },
  {
   "cell_type": "code",
   "execution_count": 44,
   "id": "0df7eec8-2962-4a04-8670-adb1fb23c1b7",
   "metadata": {},
   "outputs": [
    {
     "name": "stdout",
     "output_type": "stream",
     "text": [
      "Empty DataFrame\n",
      "Columns: [SaleID, CustomerID, Product, Amount]\n",
      "Index: []\n",
      "Empty DataFrame\n",
      "Columns: [CustomerID, Age, City]\n",
      "Index: []\n",
      "\n",
      "No duplication found in either dataset\n"
     ]
    }
   ],
   "source": [
    "import pandas as pd\n",
    "\n",
    "sales = pd.read_csv(\"sales.csv\")\n",
    "customers = pd.read_csv(\"customers.csv\")\n",
    "\n",
    "print(sales[sales.duplicated()])\n",
    "print(customers[customers.duplicated()])\n",
    "\n",
    "print(\"\\nNo duplication found in either dataset\")"
   ]
  },
  {
   "cell_type": "markdown",
   "id": "ba63135a-ed4e-43ab-97b3-a975f9c55e9c",
   "metadata": {},
   "source": [
    "# **Task 4**"
   ]
  },
  {
   "cell_type": "code",
   "execution_count": 56,
   "id": "0b18b571-0320-4140-ac48-ab039d765437",
   "metadata": {},
   "outputs": [
    {
     "name": "stdout",
     "output_type": "stream",
     "text": [
      "     SaleID  CustomerID     Product  Amount  Discounted Total\n",
      "0       101           1      Laptop     200             180.0\n",
      "1       102           2  Smartphone     500             450.0\n",
      "2       103           3      Tablet     800             720.0\n",
      "3       104           4  Headphones    1100             990.0\n",
      "4       105           5     Monitor    1400            1260.0\n",
      "..      ...         ...         ...     ...               ...\n",
      "395     496          96      Laptop     200             180.0\n",
      "396     497          97  Smartphone     500             450.0\n",
      "397     498          98      Tablet     800             720.0\n",
      "398     499          99  Headphones    1100             990.0\n",
      "399     500         100     Monitor    1400            1260.0\n",
      "\n",
      "[400 rows x 5 columns]\n"
     ]
    },
    {
     "data": {
      "text/html": [
       "<div>\n",
       "<style scoped>\n",
       "    .dataframe tbody tr th:only-of-type {\n",
       "        vertical-align: middle;\n",
       "    }\n",
       "\n",
       "    .dataframe tbody tr th {\n",
       "        vertical-align: top;\n",
       "    }\n",
       "\n",
       "    .dataframe thead th {\n",
       "        text-align: right;\n",
       "    }\n",
       "</style>\n",
       "<table border=\"1\" class=\"dataframe\">\n",
       "  <thead>\n",
       "    <tr style=\"text-align: right;\">\n",
       "      <th></th>\n",
       "      <th>Product</th>\n",
       "      <th>Total Sales</th>\n",
       "    </tr>\n",
       "  </thead>\n",
       "  <tbody>\n",
       "    <tr>\n",
       "      <th>0</th>\n",
       "      <td>Headphones</td>\n",
       "      <td>80</td>\n",
       "    </tr>\n",
       "    <tr>\n",
       "      <th>1</th>\n",
       "      <td>Laptop</td>\n",
       "      <td>80</td>\n",
       "    </tr>\n",
       "    <tr>\n",
       "      <th>2</th>\n",
       "      <td>Monitor</td>\n",
       "      <td>80</td>\n",
       "    </tr>\n",
       "    <tr>\n",
       "      <th>3</th>\n",
       "      <td>Smartphone</td>\n",
       "      <td>80</td>\n",
       "    </tr>\n",
       "    <tr>\n",
       "      <th>4</th>\n",
       "      <td>Tablet</td>\n",
       "      <td>80</td>\n",
       "    </tr>\n",
       "  </tbody>\n",
       "</table>\n",
       "</div>"
      ],
      "text/plain": [
       "      Product  Total Sales\n",
       "0  Headphones           80\n",
       "1      Laptop           80\n",
       "2     Monitor           80\n",
       "3  Smartphone           80\n",
       "4      Tablet           80"
      ]
     },
     "execution_count": 56,
     "metadata": {},
     "output_type": "execute_result"
    }
   ],
   "source": [
    "import pandas as pd\n",
    "\n",
    "sales = pd.read_csv(\"sales.csv\")\n",
    "\n",
    "sales['Discounted Total'] = sales['Amount'] - (sales['Amount'] * 0.10)\n",
    "print(sales)\n",
    "\n",
    "sales.groupby('Product').size().reset_index(name='Total Sales')"
   ]
  },
  {
   "cell_type": "markdown",
   "id": "4a6f4c5c-7e5e-4ada-82c7-6cc6b0bed3fe",
   "metadata": {},
   "source": [
    "# **Task 5**"
   ]
  },
  {
   "cell_type": "code",
   "execution_count": 66,
   "id": "23464610-8687-4db9-8b10-b56f6fb6d93c",
   "metadata": {},
   "outputs": [
    {
     "name": "stdout",
     "output_type": "stream",
     "text": [
      "    CustomerID  Age         City\n",
      "3            4   25      Houston\n",
      "4            5   26      Phoenix\n",
      "5            6   27     New York\n",
      "6            7   28  Los Angeles\n",
      "7            8   29      Chicago\n",
      "8            9   30      Houston\n",
      "9           10   31      Phoenix\n",
      "10          11   32     New York\n",
      "11          12   33  Los Angeles\n",
      "12          13   34      Chicago\n",
      "13          14   35      Houston\n",
      "33          34   25      Houston\n",
      "34          35   26      Phoenix\n",
      "35          36   27     New York\n",
      "36          37   28  Los Angeles\n",
      "37          38   29      Chicago\n",
      "38          39   30      Houston\n",
      "39          40   31      Phoenix\n",
      "40          41   32     New York\n",
      "41          42   33  Los Angeles\n",
      "42          43   34      Chicago\n",
      "43          44   35      Houston\n",
      "63          64   25      Houston\n",
      "64          65   26      Phoenix\n",
      "65          66   27     New York\n",
      "66          67   28  Los Angeles\n",
      "67          68   29      Chicago\n",
      "68          69   30      Houston\n",
      "69          70   31      Phoenix\n",
      "70          71   32     New York\n",
      "71          72   33  Los Angeles\n",
      "72          73   34      Chicago\n",
      "73          74   35      Houston\n",
      "93          94   25      Houston\n",
      "94          95   26      Phoenix\n",
      "95          96   27     New York\n",
      "96          97   28  Los Angeles\n",
      "97          98   29      Chicago\n",
      "98          99   30      Houston\n",
      "99         100   31      Phoenix\n"
     ]
    },
    {
     "data": {
      "text/html": [
       "<div>\n",
       "<style scoped>\n",
       "    .dataframe tbody tr th:only-of-type {\n",
       "        vertical-align: middle;\n",
       "    }\n",
       "\n",
       "    .dataframe tbody tr th {\n",
       "        vertical-align: top;\n",
       "    }\n",
       "\n",
       "    .dataframe thead th {\n",
       "        text-align: right;\n",
       "    }\n",
       "</style>\n",
       "<table border=\"1\" class=\"dataframe\">\n",
       "  <thead>\n",
       "    <tr style=\"text-align: right;\">\n",
       "      <th></th>\n",
       "      <th>City</th>\n",
       "      <th>Count of People</th>\n",
       "    </tr>\n",
       "  </thead>\n",
       "  <tbody>\n",
       "    <tr>\n",
       "      <th>0</th>\n",
       "      <td>Chicago</td>\n",
       "      <td>7</td>\n",
       "    </tr>\n",
       "    <tr>\n",
       "      <th>1</th>\n",
       "      <td>Houston</td>\n",
       "      <td>11</td>\n",
       "    </tr>\n",
       "    <tr>\n",
       "      <th>2</th>\n",
       "      <td>Los Angeles</td>\n",
       "      <td>7</td>\n",
       "    </tr>\n",
       "    <tr>\n",
       "      <th>3</th>\n",
       "      <td>New York</td>\n",
       "      <td>7</td>\n",
       "    </tr>\n",
       "    <tr>\n",
       "      <th>4</th>\n",
       "      <td>Phoenix</td>\n",
       "      <td>8</td>\n",
       "    </tr>\n",
       "  </tbody>\n",
       "</table>\n",
       "</div>"
      ],
      "text/plain": [
       "          City  Count of People\n",
       "0      Chicago                7\n",
       "1      Houston               11\n",
       "2  Los Angeles                7\n",
       "3     New York                7\n",
       "4      Phoenix                8"
      ]
     },
     "execution_count": 66,
     "metadata": {},
     "output_type": "execute_result"
    }
   ],
   "source": [
    "import pandas as pd\n",
    "\n",
    "customers = pd.read_csv(\"customers.csv\")\n",
    "\n",
    "filter_by_age = customers[(customers['Age'] >= 25) & (customers['Age'] <=35)]\n",
    "print(filter_by_age)\n",
    "\n",
    "filter_by_age.groupby('City').size().reset_index(name='Count of People')"
   ]
  },
  {
   "cell_type": "markdown",
   "id": "63e291be-9686-47c6-bc24-f9465b7ed925",
   "metadata": {},
   "source": [
    "# **Task 6**"
   ]
  },
  {
   "cell_type": "code",
   "execution_count": 84,
   "id": "5594132b-ebd4-40a0-bb2c-076b84437d83",
   "metadata": {},
   "outputs": [
    {
     "name": "stdout",
     "output_type": "stream",
     "text": [
      "          City  Sales\n",
      "0      Chicago     80\n",
      "1      Houston     80\n",
      "2  Los Angeles     80\n",
      "3     New York     80\n",
      "4      Phoenix     80\n",
      "All cities have equal sales\n",
      "\n",
      "      Product  Units Sold\n",
      "0  Headphones          80\n",
      "1      Laptop          80\n",
      "2     Monitor          80\n",
      "3  Smartphone          80\n",
      "4      Tablet          80\n",
      "All products have equal sales\n"
     ]
    }
   ],
   "source": [
    "import pandas as pd\n",
    "\n",
    "sales = pd.read_csv(\"sales.csv\")\n",
    "customers = pd.read_csv(\"customers.csv\")\n",
    "\n",
    "merged = pd.merge(sales, customers, on='CustomerID')\n",
    "sales_by_city = merged.groupby('City')['SaleID'].count().reset_index(name='Sales')\n",
    "print(sales_by_city)\n",
    "print('All cities have equal sales\\n')\n",
    "\n",
    "units_by_product = merged.groupby('Product').size().reset_index(name='Units Sold')\n",
    "print(units_by_product)\n",
    "print('All products have equal sales')"
   ]
  },
  {
   "cell_type": "markdown",
   "id": "38d54ad6-acaa-4626-b7cb-e91312776990",
   "metadata": {},
   "source": [
    "# **Task 7**"
   ]
  },
  {
   "cell_type": "code",
   "execution_count": 111,
   "id": "ac39e1b1-b8a7-44eb-93b4-2f97b3b453c3",
   "metadata": {},
   "outputs": [
    {
     "name": "stdout",
     "output_type": "stream",
     "text": [
      "Unique Cities: \n",
      "   New York\n",
      "Los Angeles\n",
      "    Chicago\n",
      "    Houston\n",
      "    Phoenix\n",
      "\n",
      "\n",
      "Unique Products: \n",
      "    Laptop\n",
      "Smartphone\n",
      "    Tablet\n",
      "Headphones\n",
      "   Monitor\n",
      "\n",
      "\n",
      "Mean of Amount is:  800.0\n",
      "Median of Amount is:  800.0\n"
     ]
    }
   ],
   "source": [
    "import pandas as pd\n",
    "\n",
    "sales = pd.read_csv(\"sales.csv\")\n",
    "customers = pd.read_csv(\"customers.csv\")\n",
    "\n",
    "merged = pd.merge(sales, customers, on='CustomerID')\n",
    "\n",
    "unique_cities = merged['City'].unique()\n",
    "\n",
    "df_cities = pd.DataFrame(data=unique_cities)\n",
    "print('Unique Cities: ')\n",
    "print(df_cities.to_string(index=False, header=False))\n",
    "print('\\n')\n",
    "unique_products = merged['Product'].unique()\n",
    "df_products = pd.DataFrame(data=unique_products)\n",
    "print('Unique Products: ')\n",
    "print(df_products.to_string(index=False, header=False))\n",
    "print('\\n')\n",
    "print('Mean of Amount is: ', merged['Amount'].mean())\n",
    "print('Median of Amount is: ', merged['Amount'].median())"
   ]
  }
 ],
 "metadata": {
  "kernelspec": {
   "display_name": "Python 3 (ipykernel)",
   "language": "python",
   "name": "python3"
  },
  "language_info": {
   "codemirror_mode": {
    "name": "ipython",
    "version": 3
   },
   "file_extension": ".py",
   "mimetype": "text/x-python",
   "name": "python",
   "nbconvert_exporter": "python",
   "pygments_lexer": "ipython3",
   "version": "3.10.12"
  }
 },
 "nbformat": 4,
 "nbformat_minor": 5
}
