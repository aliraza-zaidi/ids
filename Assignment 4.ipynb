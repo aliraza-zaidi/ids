{
 "cells": [
  {
   "cell_type": "markdown",
   "id": "686d7336-6585-4117-a935-30f0fb3ef698",
   "metadata": {},
   "source": [
    "# **Introduction to Data Science**"
   ]
  },
  {
   "cell_type": "markdown",
   "id": "be58ba0c-27f5-4ae9-bf0b-13e212c02dbd",
   "metadata": {},
   "source": [
    "# **Assignment 4**"
   ]
  },
  {
   "cell_type": "markdown",
   "id": "955c9520-1ae6-4deb-a2ef-4d9d83ff69bf",
   "metadata": {},
   "source": [
    "## *BSDSF22M011 Muhammad Ali Raza*"
   ]
  },
  {
   "cell_type": "markdown",
   "id": "4d24bfaf-04c9-4533-8dec-3f6c77909f92",
   "metadata": {},
   "source": [
    "# **Climate Data Analysis for a Research Center**"
   ]
  },
  {
   "cell_type": "markdown",
   "id": "a8292e15-a583-42d6-9fb2-3359f0366a8d",
   "metadata": {},
   "source": [
    "## **1. Initialize Temperature and Humidity Data**"
   ]
  },
  {
   "cell_type": "code",
   "execution_count": null,
   "id": "3319a5c4-16ed-43fe-8acd-f6bd6712a80b",
   "metadata": {},
   "outputs": [],
   "source": [
    "import numpy as np\n",
    "\n",
    "temperature = np.random.uniform(-10, 40, (500, 365))\n",
    "humidity = np.random.uniform(0, 100, (500, 365))\n",
    "\n",
    "print(\"Temperature Data: \", temperature)\n",
    "print(\"Humidity Data: \", humidity)"
   ]
  },
  {
   "cell_type": "markdown",
   "id": "27cd5415-fac1-43cb-b89b-fc3bc675d25c",
   "metadata": {},
   "source": [
    "## **2. Check for missing data**"
   ]
  },
  {
   "cell_type": "code",
   "execution_count": null,
   "id": "48ceaae1-901e-455c-840e-57d71b41d14f",
   "metadata": {},
   "outputs": [],
   "source": [
    "random_temperature = np.random.choice(temperature_data.size, int(0.05 * temperature_data.size), replace=False)\n",
    "random_humidity = np.random.choice(humidity_data.size, int(0.05 * humidity_data.size), replace=False)\n",
    "\n",
    "temperature_data.flat[random_temperature] = np.nan\n",
    "humidity_data.flat[random_humidity] = np.nan\n",
    "\n",
    "missing_temperatures = np.isnan(temperature_data).sum()\n",
    "missing_humidities = np.isnan(humidity_data).sum()\n",
    "\n",
    "print(\"Total missing values in temperature data: \", missing_temperatures)\n",
    "print(\"Total missing values in humidity data: \", missing_humidities)\n"
   ]
  },
  {
   "cell_type": "markdown",
   "id": "a8b2996b-2d1c-4d96-8f38-e3fdb2bcae71",
   "metadata": {},
   "source": [
    "## **3. Convert Temperature and Calculate Discomfort Index**"
   ]
  },
  {
   "cell_type": "code",
   "execution_count": null,
   "id": "fde85afa-e0f7-48af-8579-ad179fe9da3a",
   "metadata": {},
   "outputs": [],
   "source": [
    "fahrenheit_data = (temperature_data * 9/5) + 32\n",
    "\n",
    "discomfort_index = 0.5 * (temperature_data_fahrenheit + 61.0 + ((temperature_data_fahrenheit - 68.0) * 1.2) + (humidity_data * 0.094))\n",
    "discomfort_index = np.where(discomfort_index > 80, 80, discomfort_index)\n",
    "\n",
    "print(\"Fahrenheit Temperatures: \", fahrenheit_data)\n",
    "print(\"Discomfort Index: \", discomfort_index)"
   ]
  },
  {
   "cell_type": "markdown",
   "id": "6231a4aa-51ae-4b40-99b4-0b4d3c68a7ed",
   "metadata": {},
   "source": [
    "## **4. Analyze January Temperatures**"
   ]
  },
  {
   "cell_type": "code",
   "execution_count": null,
   "id": "b9a1a66d-fd6b-4b9d-83bf-294ce8477748",
   "metadata": {},
   "outputs": [],
   "source": [
    "january_data = temperature_data[:, :31]\n",
    "average_january_temperature = np.nanmean(january_data)\n",
    "\n",
    "print(f\"Average January temperature across all locations: {round(average_january_temperature,1)} °C\")"
   ]
  },
  {
   "cell_type": "markdown",
   "id": "73094387-6256-468c-8caa-f98f094aaed0",
   "metadata": {},
   "source": [
    "## **5. Identify Extreme Temperatures**"
   ]
  },
  {
   "cell_type": "code",
   "execution_count": null,
   "id": "12ef5a87-bee1-4971-8921-5372b78b3794",
   "metadata": {},
   "outputs": [],
   "source": [
    "temperature_data[temperature_data > 35] = np.nan\n",
    "nulls = np.isnan(temperature_data).sum(axis=1)\n",
    "\n",
    "print(\"Number of null values per location after marking extreme temperatures:\", nulls)"
   ]
  },
  {
   "cell_type": "markdown",
   "id": "5579511c-c9ef-4ceb-882c-d9a51d9f8ac4",
   "metadata": {},
   "source": [
    "## **6. Calculate Quarterly Temperature Averages**"
   ]
  },
  {
   "cell_type": "code",
   "execution_count": null,
   "id": "e6411598-cd0c-4927-b6fd-369691e17c81",
   "metadata": {},
   "outputs": [],
   "source": [
    "quarters = np.array_split(temperature_data, 4, axis=1)\n",
    "quarterly_averages = np.array([np.nanmean(quarter, axis=1) for quarter in quarters]).T\n",
    "\n",
    "print(\"Quarterly temperature averages for each location:\", quarterly_averages)"
   ]
  },
  {
   "cell_type": "markdown",
   "id": "6d23e0ff-a482-4a48-986f-fe8363672f09",
   "metadata": {},
   "source": [
    "## **7. Classify Humidity Levels**"
   ]
  },
  {
   "cell_type": "code",
   "execution_count": null,
   "id": "269ea2e4-606f-4bd7-8464-3b12018dac6e",
   "metadata": {},
   "outputs": [],
   "source": [
    "dry_days = (humidity_data < 30).sum(axis=1)\n",
    "humid_days = (humidity_data > 70).sum(axis=1)\n",
    "\n",
    "print(\"Total Dry and Humid days for each location:\")\n",
    "for i in range(500):\n",
    "    print(f\"Location {i+1}: Dry Days = {dry_days[i]}, Humid Days = {humid_days[i]}\")"
   ]
  },
  {
   "cell_type": "markdown",
   "id": "1ae6b138-8260-4912-a4e4-dc48f6ac1a3d",
   "metadata": {},
   "source": [
    "## **8. Apply Daily Pressure Trend to Temperature Data**"
   ]
  },
  {
   "cell_type": "code",
   "execution_count": null,
   "id": "25799e4a-f93f-4f7d-a615-827ffc7f286d",
   "metadata": {},
   "outputs": [],
   "source": [
    "pressure_trend = np.linspace(-2, 2, 365)\n",
    "adjusted_temp = temperature_data + pressure_trend\n",
    "\n",
    "print(\"Temperature data adjusted with daily pressure trend: \", adjusted_temp)"
   ]
  }
 ],
 "metadata": {
  "kernelspec": {
   "display_name": "Python 3 (ipykernel)",
   "language": "python",
   "name": "python3"
  },
  "language_info": {
   "codemirror_mode": {
    "name": "ipython",
    "version": 3
   },
   "file_extension": ".py",
   "mimetype": "text/x-python",
   "name": "python",
   "nbconvert_exporter": "python",
   "pygments_lexer": "ipython3",
   "version": "3.10.12"
  }
 },
 "nbformat": 4,
 "nbformat_minor": 5
}
