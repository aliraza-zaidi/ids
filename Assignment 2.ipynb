{
 "cells": [
  {
   "cell_type": "markdown",
   "id": "f2f9fdac-2470-440d-9e2d-5f20b373d717",
   "metadata": {
    "scrolled": true
   },
   "source": [
    "# **Introduction to Data Science**"
   ]
  },
  {
   "cell_type": "markdown",
   "id": "695d0062-98c8-419c-a974-e4cdab7f042e",
   "metadata": {},
   "source": [
    "# **Assignment 2**"
   ]
  },
  {
   "cell_type": "markdown",
   "id": "952d253f-1223-4874-a591-c0807224661e",
   "metadata": {},
   "source": [
    "## *BSDSF22M011 Muhammad Ali Raza*"
   ]
  },
  {
   "cell_type": "markdown",
   "id": "66ee81e6-f235-4275-aa54-3bfa72642b0c",
   "metadata": {},
   "source": [
    "# **Smart Data Aggregator**"
   ]
  },
  {
   "cell_type": "markdown",
   "id": "8c3e3dc3-9c5a-49f9-aed5-186c41fd34dd",
   "metadata": {},
   "source": [
    "## Part 1: User Data Processing with Lists"
   ]
  },
  {
   "cell_type": "code",
   "execution_count": null,
   "id": "e6a0822d-fe48-4c4c-8adb-b762a628c597",
   "metadata": {
    "scrolled": true
   },
   "outputs": [],
   "source": [
    "def filter_users (list_of_tuples):\n",
    "    names = []\n",
    "    for _tuple in list_of_tuples:\n",
    "        user_id, user_name, age, country = _tuple\n",
    "        if age > 30 and (country == \"USA\" or country == \"Canada\"):\n",
    "            names.append(user_name)\n",
    "    return names\n",
    "\n",
    "user_data = [\n",
    "    (1, 'John Eaton', 46, 'USA'),\n",
    "    (2, 'Donald Mathews', 18, 'Germany'),\n",
    "    (3, 'Krista Evans', 51, 'Australia'),\n",
    "    (4, 'Julia Chavez', 53, 'India'),\n",
    "    (5, 'Kent Cervantes', 56, 'UK'),\n",
    "    (6, 'Charles Brennan', 40, 'Canada'),\n",
    "    (7, 'Jessica Alexander', 56, 'Germany'),\n",
    "    (8, 'Brenda Hopkins DVM', 33, 'Australia'),\n",
    "    (9, 'Jason Henderson', 19, 'Germany'),\n",
    "    (10, 'Ana Young', 29, 'USA')\n",
    "]\n",
    "\n",
    "users = filter_users(user_data)\n",
    "users"
   ]
  },
  {
   "cell_type": "code",
   "execution_count": null,
   "id": "8dc0fb9f-b3d9-4923-b84d-96a14fceaf24",
   "metadata": {},
   "outputs": [],
   "source": [
    "def sort_by_age (user):\n",
    "    return user[2]\n",
    "\n",
    "user_data = [\n",
    "    (1, 'Tristan Ramirez', 42, 'USA'),\n",
    "    (2, 'Alexis Simon', 37, 'Australia'),\n",
    "    (3, 'Dennis Peters', 58, 'Germany'),\n",
    "    (4, 'Robert Mcdaniel', 36, 'Germany'),\n",
    "    (5, 'Amanda Olson', 32, 'France'),\n",
    "    (6, 'Dr. Mary Delgado', 20, 'UK'),\n",
    "    (7, 'Patrick Wright', 25, 'Canada'),\n",
    "    (8, 'Alyssa Richardson', 50, 'Australia'),\n",
    "    (9, 'Briana Guerrero', 32, 'Germany'),\n",
    "    (10, 'Felicia Parrish', 53, 'UK'),\n",
    "    (11, 'Wendy Ali', 38, 'USA'),\n",
    "    (12, 'Olivia Becker', 34, 'Germany'),\n",
    "    (13, 'Lauren Robinson', 41, 'Germany'),\n",
    "    (14, 'Debra Bradley', 35, 'UK'),\n",
    "    (15, 'Kimberly Crawford', 39, 'USA'),\n",
    "    (16, 'Jennifer Copeland', 32, 'USA'),\n",
    "    (17, 'Shane Stokes', 48, 'Australia'),\n",
    "    (18, 'Jamie Floyd', 44, 'France'),\n",
    "    (19, 'Paul Smith', 46, 'USA'),\n",
    "    (20, 'Amy Parsons', 30, 'USA')\n",
    "]\n",
    "\n",
    "top_10_oldest = sorted(user_data, key=sort_by_age, reverse=True)[:10]\n",
    "top_10_oldest"
   ]
  },
  {
   "cell_type": "code",
   "execution_count": 32,
   "id": "b25277f6-effc-4975-a653-c1aea24ff038",
   "metadata": {},
   "outputs": [
    {
     "data": {
      "text/plain": [
       "['Robert Mcdaniel', 'Dennis Peters']"
      ]
     },
     "execution_count": 32,
     "metadata": {},
     "output_type": "execute_result"
    }
   ],
   "source": [
    "def sort_by_name (users):\n",
    "    return users[1]\n",
    "    \n",
    "def find_duplicate_names (users):\n",
    "    sorted_names = sorted(users, key=sort_by_name)\n",
    "    duplicates = []\n",
    "    for i in range (len(users)):        \n",
    "        if users[i][1] == users[i-1][1]:            \n",
    "            duplicates.append(users[i][1])\n",
    "    return duplicates\n",
    "    \n",
    "user_data = [\n",
    "    (1, 'Robert Mcdaniel', 42, 'USA'),\n",
    "    (2, 'Dennis Peters', 37, 'Australia'),\n",
    "    (3, 'Dennis Peters', 58, 'Germany'),\n",
    "    (4, 'Robert Mcdaniel', 36, 'Germany'),    \n",
    "]\n",
    "\n",
    "duplicates = find_duplicate_names (user_data)\n",
    "duplicates"
   ]
  },
  {
   "cell_type": "markdown",
   "id": "eccc8ec1-087a-45b6-ab32-c65996f69ff1",
   "metadata": {},
   "source": [
    "## Part 2: Immutable Data Management with Tuples"
   ]
  },
  {
   "cell_type": "code",
   "execution_count": 4,
   "id": "0611616d-5b8f-4371-8301-3e2c3a05124b",
   "metadata": {},
   "outputs": [
    {
     "data": {
      "text/plain": [
       "4"
      ]
     },
     "execution_count": 4,
     "metadata": {},
     "output_type": "execute_result"
    }
   ],
   "source": [
    "def find_unique_users (transaction_data):\n",
    "    unique = []\n",
    "\n",
    "    for transaction in transaction_data:\n",
    "        transaction_id, user_id, amount, timestamp = transaction\n",
    "        if user_id not in unique:\n",
    "            unique.append(user_id)\n",
    "    return len(unique)\n",
    "\n",
    "transactions = [\n",
    "    (1, 101, 25.50, '2024-10-10 10:00'),\n",
    "    (2, 102, 75.00, '2024-10-10 10:05'),\n",
    "    (3, 101, 50.00, '2024-10-10 10:15'),\n",
    "    (4, 103, 100.00, '2024-10-10 10:20'),\n",
    "    (5, 104, 45.00, '2024-10-10 10:30')\n",
    "]\n",
    "\n",
    "unique_users = find_unique_users (transactions)\n",
    "unique_users"
   ]
  },
  {
   "cell_type": "code",
   "execution_count": 5,
   "id": "43a1ac40-4f3a-4482-8a5b-3e141a743872",
   "metadata": {},
   "outputs": [
    {
     "data": {
      "text/plain": [
       "100.0"
      ]
     },
     "execution_count": 5,
     "metadata": {},
     "output_type": "execute_result"
    }
   ],
   "source": [
    "def find_highest_amount (transaction_data):\n",
    "    amounts = []\n",
    "\n",
    "    for transaction in transaction_data:\n",
    "        transaction_id, user_id, amount, timestamp = transaction\n",
    "        amounts.append(amount)\n",
    "        \n",
    "    return max(amounts)\n",
    "\n",
    "transactions = [\n",
    "    (1, 101, 25.50, '2024-10-10 10:00'),\n",
    "    (2, 102, 75.00, '2024-10-10 10:05'),\n",
    "    (3, 100, 50.00, '2024-10-10 10:15'),\n",
    "    (4, 103, 100.00, '2024-10-10 10:20'),\n",
    "    (5, 104, 45.00, '2024-10-10 10:30')\n",
    "]\n",
    "\n",
    "max_amount = find_highest_amount(transactions)\n",
    "max_amount"
   ]
  },
  {
   "cell_type": "code",
   "execution_count": 7,
   "id": "31aa04cd-0e33-4da6-b735-ccab8ae25155",
   "metadata": {},
   "outputs": [
    {
     "name": "stdout",
     "output_type": "stream",
     "text": [
      "[1, 2, 3, 4, 5]\n",
      "[101, 102, 100, 103, 104]\n"
     ]
    }
   ],
   "source": [
    "def transaction_id_and_user_id (transactions):\n",
    "    transaction_ids = []\n",
    "    user_ids = []\n",
    "\n",
    "    for transaction in transactions:\n",
    "        transaction_id, user_id, amount, timestamp = transaction\n",
    "        transaction_ids.append(transaction_id)\n",
    "        user_ids.append(user_id)\n",
    "    \n",
    "    return transaction_ids, user_ids\n",
    "\n",
    "transactions = [\n",
    "    (1, 101, 25.50, '2024-10-10 10:00'),\n",
    "    (2, 102, 75.00, '2024-10-10 10:05'),\n",
    "    (3, 100, 50.00, '2024-10-10 10:15'),\n",
    "    (4, 103, 100.00, '2024-10-10 10:20'),\n",
    "    (5, 104, 45.00, '2024-10-10 10:30')\n",
    "]\n",
    "\n",
    "transaction_ids, user_ids = transaction_id_and_user_id (transactions)\n",
    "print(transaction_ids)\n",
    "print(user_ids)"
   ]
  },
  {
   "cell_type": "markdown",
   "id": "83a531b7-f8ad-4cc9-82ef-5bdb669c760f",
   "metadata": {},
   "source": [
    "## Part 3: Unique Data Handling with Sets"
   ]
  },
  {
   "cell_type": "code",
   "execution_count": 20,
   "id": "99e3a0c8-6580-4481-813d-c559ba13f20a",
   "metadata": {},
   "outputs": [
    {
     "name": "stdout",
     "output_type": "stream",
     "text": [
      "{104, 105}\n",
      "{101, 102, 104, 105, 106, 109, 110}\n",
      "{112, 101, 102, 103, 104, 105, 111}\n",
      "{104, 105, 108}\n"
     ]
    }
   ],
   "source": [
    "def a_and_b (a,b):\n",
    "    return a.intersection(b)\n",
    "\n",
    "def a_or_c (a,c):\n",
    "    return a.symmetric_difference(c)\n",
    "\n",
    "def update_a (a, user_ids):\n",
    "    a.update(user_ids)\n",
    "    return a\n",
    "\n",
    "def update_b (b, user_ids):\n",
    "    b.difference_update(user_ids)\n",
    "    return b\n",
    "\n",
    "page_A = {101, 102, 103, 104, 105}\n",
    "page_B = {104, 105, 106, 107, 108}\n",
    "page_C = {103, 106, 109, 110}\n",
    "\n",
    "page_A_and_page_B = a_and_b(page_A, page_B)\n",
    "print(page_A_and_page_B)\n",
    "\n",
    "page_A_or_page_C = a_or_c (page_A, page_C)\n",
    "print(page_A_or_page_C)\n",
    "\n",
    "new_user_ids = [111, 112]\n",
    "new_A = update_a (page_A, new_user_ids)\n",
    "print(new_A)\n",
    "\n",
    "delete_users = [106, 107]\n",
    "new_b = update_b (page_B, delete_users)\n",
    "print(new_b)"
   ]
  },
  {
   "cell_type": "markdown",
   "id": "eb5744b6-20c0-47c3-8ce1-0310f36b18db",
   "metadata": {},
   "source": [
    "## Part 4: Data Aggregation with Dictionaries"
   ]
  },
  {
   "cell_type": "code",
   "execution_count": 25,
   "id": "b33651b7-7763-4676-a516-f0b9bf75d98a",
   "metadata": {},
   "outputs": [
    {
     "data": {
      "text/plain": [
       "{101: {'rating': 5, 'comments': 'Great service!'},\n",
       " 103: {'rating': 4, 'comments': 'Satisfied overall.'}}"
      ]
     },
     "execution_count": 25,
     "metadata": {},
     "output_type": "execute_result"
    }
   ],
   "source": [
    "def filter_ratings (feedback):\n",
    "    four_and_above = dict()\n",
    "    items = feedback.items()\n",
    "\n",
    "    for item in items:\n",
    "        user_id, rating = item\n",
    "        if rating['rating'] >=4:\n",
    "            four_and_above[user_id] = rating\n",
    "    return four_and_above\n",
    "\n",
    "feedback = {\n",
    "    101: {'rating': 5, 'comments': 'Great service!'},\n",
    "    102: {'rating': 3, 'comments': 'Could be better.'},\n",
    "    103: {'rating': 4, 'comments': 'Satisfied overall.'}\n",
    "}\n",
    "\n",
    "filter_ratings(feedback)"
   ]
  },
  {
   "cell_type": "code",
   "execution_count": 33,
   "id": "d0f6cb6c-afd4-4aa7-8f93-4181aeb76a1a",
   "metadata": {},
   "outputs": [
    {
     "data": {
      "text/plain": [
       "{101: {'rating': 5, 'comments': 'Great service!'},\n",
       " 105: {'rating': 5, 'comments': 'Excellent platform!'},\n",
       " 107: {'rating': 5, 'comments': 'Best I’ve used.'},\n",
       " 102: {'rating': 4, 'comments': 'Improved over time.'},\n",
       " 103: {'rating': 4, 'comments': 'Would recommend to others.'}}"
      ]
     },
     "execution_count": 33,
     "metadata": {},
     "output_type": "execute_result"
    }
   ],
   "source": [
    "def sort_by_rating (dic):\n",
    "    return dic[1]['rating']\n",
    "\n",
    "feedback = {\n",
    "    101: {'rating': 5, 'comments': 'Great service!'},\n",
    "    102: {'rating': 3, 'comments': 'Could be better.'},\n",
    "    103: {'rating': 4, 'comments': 'Satisfied overall.'},\n",
    "    104: {'rating': 2, 'comments': 'Not happy with the experience.'},\n",
    "    105: {'rating': 5, 'comments': 'Excellent platform!'},\n",
    "    103: {'rating': 4, 'comments': 'Would recommend to others.'},\n",
    "    106: {'rating': 1, 'comments': 'Terrible support.'},\n",
    "    107: {'rating': 5, 'comments': 'Best I’ve used.'},\n",
    "    102: {'rating': 4, 'comments': 'Improved over time.'}\n",
    "}\n",
    "\n",
    "top_ratings  = sorted(feedback.items(), key=sort_by_rating, reverse=True)[:5]\n",
    "\n",
    "top_ratings_dict = dict()\n",
    "\n",
    "for rating in top_ratings:\n",
    "    user, review = rating\n",
    "    top_ratings_dict[user] = review\n",
    "\n",
    "top_ratings_dict"
   ]
  },
  {
   "cell_type": "code",
   "execution_count": 36,
   "id": "2a246b32-f316-4de1-b8a6-5c7f24e644a4",
   "metadata": {},
   "outputs": [
    {
     "data": {
      "text/plain": [
       "{101: {'rating': 5, 'comments': 'Great service!'},\n",
       " 102: {'rating': 3, 'comments': 'Could be better.'},\n",
       " 103: {'rating': 4,\n",
       "  'comments': 'Satisfied overall. Would recommend to others.'},\n",
       " 104: {'rating': 2, 'comments': 'Not happy with the experience.'},\n",
       " 105: {'rating': 5, 'comments': 'Excellent platform!'}}"
      ]
     },
     "execution_count": 36,
     "metadata": {},
     "output_type": "execute_result"
    }
   ],
   "source": [
    "def combine_feedback(feedbacks):\n",
    "    combined_feedback = {}\n",
    "    \n",
    "    for feedback in feedbacks:\n",
    "        for user_id, rating in feedback.items():\n",
    "            if user_id not in combined_feedback:\n",
    "                combined_feedback[user_id] = rating\n",
    "            else:                \n",
    "                combined_feedback[user_id]['rating'] = max(combined_feedback[user_id]['rating'], rating['rating'])                \n",
    "                combined_feedback[user_id]['comments'] += ' ' + rating['comments']\n",
    "    \n",
    "    return combined_feedback\n",
    "\n",
    "feedback_1 = {\n",
    "    101: {'rating': 5, 'comments': 'Great service!'},\n",
    "    102: {'rating': 3, 'comments': 'Could be better.'},\n",
    "    103: {'rating': 4, 'comments': 'Satisfied overall.'}\n",
    "}\n",
    "\n",
    "feedback_2 = {\n",
    "    104: {'rating': 2, 'comments': 'Not happy with the experience.'},\n",
    "    105: {'rating': 5, 'comments': 'Excellent platform!'},\n",
    "    103: {'rating': 4, 'comments': 'Would recommend to others.'}\n",
    "}\n",
    "\n",
    "combined = combine_feedback([feedback_1, feedback_2])\n",
    "combined"
   ]
  },
  {
   "cell_type": "code",
   "execution_count": 38,
   "id": "f9da9af2-d54f-47ea-a191-31424b1db300",
   "metadata": {},
   "outputs": [
    {
     "data": {
      "text/plain": [
       "{105: 5, 103: 4}"
      ]
     },
     "execution_count": 38,
     "metadata": {},
     "output_type": "execute_result"
    }
   ],
   "source": [
    "def rating_above_3(feedback):\n",
    "    return {user_id: rating['rating'] for user_id, rating in feedback.items() if rating['rating'] > 3}\n",
    "\n",
    "feedback = {\n",
    "    104: {'rating': 2, 'comments': 'Not happy with the experience.'},\n",
    "    105: {'rating': 5, 'comments': 'Excellent platform!'},\n",
    "    103: {'rating': 4, 'comments': 'Would recommend to others.'}\n",
    "}\n",
    "\n",
    "above_3 = rating_above_3(feedback)\n",
    "above_3"
   ]
  }
 ],
 "metadata": {
  "kernelspec": {
   "display_name": "Python 3 (ipykernel)",
   "language": "python",
   "name": "python3"
  },
  "language_info": {
   "codemirror_mode": {
    "name": "ipython",
    "version": 3
   },
   "file_extension": ".py",
   "mimetype": "text/x-python",
   "name": "python",
   "nbconvert_exporter": "python",
   "pygments_lexer": "ipython3",
   "version": "3.10.12"
  }
 },
 "nbformat": 4,
 "nbformat_minor": 5
}
