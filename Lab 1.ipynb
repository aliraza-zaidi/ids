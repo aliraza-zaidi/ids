{
 "cells": [
  {
   "cell_type": "code",
   "execution_count": 2,
   "id": "3120bbe8-153f-4072-a4b9-63dcb2ff4bcf",
   "metadata": {},
   "outputs": [],
   "source": [
    "import numpy as np"
   ]
  },
  {
   "cell_type": "code",
   "execution_count": 31,
   "id": "d900bf57-ea88-4d95-9c08-ba4bcfac53b0",
   "metadata": {},
   "outputs": [
    {
     "name": "stdout",
     "output_type": "stream",
     "text": [
      "1-D:  [ 1  2  3  4  5  6  7  8  9 10 11 12 13 14 15 16 17 18 19 20]\n",
      "Re-shaped:  [[ 1  2  3  4  5]\n",
      " [ 6  7  8  9 10]\n",
      " [11 12 13 14 15]\n",
      " [16 17 18 19 20]]\n",
      "Last column zero:  [[ 1  2  3  4  0]\n",
      " [ 6  7  8  9  0]\n",
      " [11 12 13 14  0]\n",
      " [16 17 18 19  0]]\n",
      "Flattened Array:  [ 1  2  3  4  0  6  7  8  9  0 11 12 13 14  0 16 17 18 19  0]\n"
     ]
    }
   ],
   "source": [
    "#task1\n",
    "arr = np.arange(1,21)\n",
    "print(\"1-D: \", arr)\n",
    "rearr = arr.reshape((4,5))\n",
    "print(\"Re-shaped: \", rearr)\n",
    "rearr[:,4] = 0\n",
    "print(\"Last column zero: \", rearr)\n",
    "flat = rearr.reshape(-1)\n",
    "print(\"Flattened Array: \", flat)"
   ]
  },
  {
   "cell_type": "code",
   "execution_count": 60,
   "id": "d7e5fefc-51a0-4532-a4fe-a7f6bc6aca95",
   "metadata": {},
   "outputs": [
    {
     "name": "stdout",
     "output_type": "stream",
     "text": [
      "Random array:  [[10 48 12 25 21]\n",
      " [29  2 48 35  8]\n",
      " [25  8  4 44 50]\n",
      " [ 6 43 26 25 19]\n",
      " [ 2 41 42  3 40]]\n",
      "Mean for row 0 is:  23.2\n",
      "Sum for row 0 is:  116\n",
      "Max of row 0 is:  48\n",
      "Min of row 0 is:  10\n",
      "Mean for row 1 is:  24.4\n",
      "Sum for row 1 is:  122\n",
      "Max of row 1 is:  48\n",
      "Min of row 1 is:  2\n",
      "Mean for row 2 is:  26.2\n",
      "Sum for row 2 is:  131\n",
      "Max of row 2 is:  50\n",
      "Min of row 2 is:  4\n",
      "Mean for row 3 is:  23.8\n",
      "Sum for row 3 is:  119\n",
      "Max of row 3 is:  43\n",
      "Min of row 3 is:  6\n",
      "Mean for row 4 is:  25.6\n",
      "Sum for row 4 is:  128\n",
      "Max of row 4 is:  42\n",
      "Min of row 4 is:  2\n",
      "Mean for column 0 is:  14.4\n",
      "Sum for column 0 is:  72\n",
      "Max of column 0 is:  29\n",
      "Min of column 0 is:  2\n",
      "Mean for column 1 is:  28.4\n",
      "Sum for column 1 is:  142\n",
      "Max of column 1 is:  48\n",
      "Min of column 1 is:  2\n",
      "Mean for column 2 is:  26.4\n",
      "Sum for column 2 is:  132\n",
      "Max of column 2 is:  48\n",
      "Min of column 2 is:  4\n",
      "Mean for column 3 is:  26.4\n",
      "Sum for column 3 is:  132\n",
      "Max of column 3 is:  44\n",
      "Min of column 3 is:  3\n",
      "Mean for column 4 is:  27.6\n",
      "Sum for column 4 is:  138\n",
      "Max of column 4 is:  50\n",
      "Min of column 4 is:  8\n"
     ]
    }
   ],
   "source": [
    "#task2\n",
    "arr = np.random.randint(low=1, high=51, size=(5,5))\n",
    "print(\"Random array: \", arr)\n",
    "\n",
    "for i in range (len(arr)):\n",
    "    print(f\"Mean for row {i} is: \", np.mean(arr[i]))\n",
    "    print(f\"Sum for row {i} is: \", np.sum(arr[i]))\n",
    "    print(f\"Max of row {i} is: \", np.max(arr[i]))\n",
    "    print(f\"Min of row {i} is: \", np.min(arr[i]))\n",
    "\n",
    "for i in range (len(arr)):\n",
    "    print(f\"Mean for column {i} is: \", np.mean(arr[:,i]))\n",
    "    print(f\"Sum for column {i} is: \", np.sum(arr[:,i]))\n",
    "    print(f\"Max of column {i} is: \", np.max(arr[:,i]))\n",
    "    print(f\"Min of column {i} is: \", np.min(arr[:,i]))"
   ]
  },
  {
   "cell_type": "code",
   "execution_count": 81,
   "id": "09cc21f8-b483-4dfa-a64e-dbcd46b5263d",
   "metadata": {},
   "outputs": [
    {
     "data": {
      "text/plain": [
       "array([[6., 0., 0., 0., 0.],\n",
       "       [0., 6., 0., 0., 0.],\n",
       "       [0., 0., 6., 0., 0.],\n",
       "       [0., 0., 0., 6., 0.],\n",
       "       [1., 1., 1., 1., 1.]])"
      ]
     },
     "execution_count": 81,
     "metadata": {},
     "output_type": "execute_result"
    }
   ],
   "source": [
    "#task3\n",
    "arr = np.eye(5,5)\n",
    "\n",
    "for i in range (len(arr)):\n",
    "    for j in range (len(arr)):\n",
    "        if i==j:\n",
    "            arr[i,j] += 5\n",
    "arr[4,:] = 1\n",
    "arr"
   ]
  },
  {
   "cell_type": "code",
   "execution_count": 76,
   "id": "cc599bd0-4a45-48e3-adeb-2ed5efc8f1e4",
   "metadata": {},
   "outputs": [
    {
     "name": "stdout",
     "output_type": "stream",
     "text": [
      "[ 8 10 19 11 16  2 17 10 13  9  9  0  7  4  3]\n",
      "Element 8 has count:  1\n",
      "Element 10 has count:  2\n",
      "Element 19 has count:  1\n",
      "Element 11 has count:  1\n",
      "Element 16 has count:  1\n",
      "Element 2 has count:  1\n",
      "Element 17 has count:  1\n",
      "Element 13 has count:  1\n",
      "Element 9 has count:  2\n",
      "Element 0 has count:  1\n",
      "Element 7 has count:  1\n",
      "Element 4 has count:  1\n",
      "Element 3 has count:  1\n",
      "2\n",
      "3\n",
      "4\n",
      "6\n",
      "8\n"
     ]
    }
   ],
   "source": [
    "#task4\n",
    "arr = np.random.randint(low=0, high=20, size=15)\n",
    "hashset = {}\n",
    "print(arr)\n",
    "for element in arr:\n",
    "    if element in hashset:\n",
    "        hashset[element] += 1\n",
    "    else:\n",
    "        hashset[element] = 1      \n",
    "for count in hashset:\n",
    "    print(f\"Element {count} has count: \", hashset[count])\n",
    "for i in range (len(arr)):\n",
    "    if arr[i] > 10:\n",
    "        print(i)"
   ]
  },
  {
   "cell_type": "code",
   "execution_count": 93,
   "id": "fcccf881-a87f-4e77-b9b4-642aaa3070b4",
   "metadata": {},
   "outputs": [
    {
     "data": {
      "text/plain": [
       "array([[0.98, 0.5 , 0.73, 0.13],\n",
       "       [0.22, 0.5 , 0.6 , 0.54],\n",
       "       [0.15, 0.5 , 0.99, 0.16]])"
      ]
     },
     "execution_count": 93,
     "metadata": {},
     "output_type": "execute_result"
    }
   ],
   "source": [
    "#task5\n",
    "arr = np.random.rand(3,4)\n",
    "new = arr.round(2)\n",
    "new[:,1] = 0.5\n",
    "new"
   ]
  },
  {
   "cell_type": "code",
   "execution_count": null,
   "id": "470970fe-fbf6-47ad-b517-59580fd63a95",
   "metadata": {},
   "outputs": [],
   "source": []
  }
 ],
 "metadata": {
  "kernelspec": {
   "display_name": "Python 3 (ipykernel)",
   "language": "python",
   "name": "python3"
  },
  "language_info": {
   "codemirror_mode": {
    "name": "ipython",
    "version": 3
   },
   "file_extension": ".py",
   "mimetype": "text/x-python",
   "name": "python",
   "nbconvert_exporter": "python",
   "pygments_lexer": "ipython3",
   "version": "3.10.12"
  }
 },
 "nbformat": 4,
 "nbformat_minor": 5
}
