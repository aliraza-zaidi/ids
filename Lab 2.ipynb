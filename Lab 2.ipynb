{
 "cells": [
  {
   "cell_type": "markdown",
   "id": "0b197908-0a9b-412f-a36f-65451ce152c8",
   "metadata": {},
   "source": [
    "# **Lab 2**"
   ]
  },
  {
   "cell_type": "markdown",
   "id": "2c619f32-f324-48e1-9646-dbdf1dc8234c",
   "metadata": {},
   "source": [
    "## **Task 1**"
   ]
  },
  {
   "cell_type": "code",
   "execution_count": 59,
   "id": "38dccd00-8f55-4f1e-991f-fae5d0d188ba",
   "metadata": {},
   "outputs": [
    {
     "data": {
      "text/plain": [
       "array([[82,  5, 32],\n",
       "       [67,  5, 33],\n",
       "       [73,  5, 75],\n",
       "       [71,  6, 61],\n",
       "       [73,  5, 55],\n",
       "       [81,  6, 62],\n",
       "       [50,  6, 99],\n",
       "       [79,  6, 94],\n",
       "       [87,  6, 42],\n",
       "       [82,  6, 99],\n",
       "       [82,  5, 65],\n",
       "       [81,  5, 31],\n",
       "       [69,  6, 40],\n",
       "       [69,  6, 48],\n",
       "       [61,  6, 55],\n",
       "       [76,  6, 97],\n",
       "       [71,  5, 60],\n",
       "       [87,  5, 71],\n",
       "       [71,  5, 54],\n",
       "       [65,  5, 80]])"
      ]
     },
     "execution_count": 59,
     "metadata": {},
     "output_type": "execute_result"
    }
   ],
   "source": [
    "import numpy as np\n",
    "\n",
    "weights = np.random.randint(60,90,size=20)\n",
    "heights = np.random.randint(5,7,size=20)\n",
    "points = np.random.randint(30,100,size=20)\n",
    "\n",
    "stats = np.column_stack((weights, heights, points))\n",
    "max_player  = np.argmax(stats[:,2])\n",
    "stats[max_player, 0] = 50\n",
    "update_stat = np.vstack((stats, [85,6,90]))\n",
    "insert_stat = np.insert(stats, 7, 55, axis=0)\n",
    "min_player  = np.argmin(stats[:,2])\n",
    "delete = np.delete(stats, [min_player,1])\n",
    "stats"
   ]
  },
  {
   "cell_type": "markdown",
   "id": "3fffb2a1-4afa-4ec7-aa91-1e5f6f221eae",
   "metadata": {},
   "source": [
    "## **Task 2**"
   ]
  },
  {
   "cell_type": "code",
   "execution_count": 60,
   "id": "24187061-ec2c-44fa-9531-e993ac6adf13",
   "metadata": {},
   "outputs": [
    {
     "name": "stdout",
     "output_type": "stream",
     "text": [
      "[79 97 71 93 81 69 69 67]\n"
     ]
    },
    {
     "data": {
      "text/plain": [
       "(array([952, 306, 923, 429, 658, 161, 686, 657, 803, 954, 797, 652, 742,\n",
       "        916, 916, 777, 793, 252, 427,  -1]),\n",
       " array([952, 306, 923, 429, 658, 161, 686, 657, 803, 954, 797, 652, 742,\n",
       "        916, 916, 777, 793, 252, 427,  -1]),\n",
       " array([-1, 12, 79, 97, 71, 16, 93, 81, 69,  8, 47, 34, 26, 22, 49, 27, 12,\n",
       "        69, 15, 67]),\n",
       " array([27, 12, 79, 97, 71, 16, 93, 81, 69,  8, 47, 34, 26, 22, 49, 27, 12,\n",
       "        69, 15, 67]))"
      ]
     },
     "execution_count": 60,
     "metadata": {},
     "output_type": "execute_result"
    }
   ],
   "source": [
    "import numpy as np\n",
    "\n",
    "purchase_amounts = np.random.randint(low=100,high=1000, size=(20,))\n",
    "item_counts = np.random.randint(low=1, high = 100, size=(20,))\n",
    "\n",
    "shallow_copy = purchase_amounts[::]\n",
    "deep_copy = item_counts.copy()\n",
    "\n",
    "conc = np.concatenate((purchase_amounts, item_counts) , axis=0)\n",
    "\n",
    "split = item_counts[item_counts > 50]\n",
    "print(split)\n",
    "\n",
    "purchase_amounts[19] = -1\n",
    "item_counts[0] = -1\n",
    "purchase_amounts, shallow_copy, item_counts, deep_copy"
   ]
  }
 ],
 "metadata": {
  "kernelspec": {
   "display_name": "Python 3 (ipykernel)",
   "language": "python",
   "name": "python3"
  },
  "language_info": {
   "codemirror_mode": {
    "name": "ipython",
    "version": 3
   },
   "file_extension": ".py",
   "mimetype": "text/x-python",
   "name": "python",
   "nbconvert_exporter": "python",
   "pygments_lexer": "ipython3",
   "version": "3.10.12"
  }
 },
 "nbformat": 4,
 "nbformat_minor": 5
}
