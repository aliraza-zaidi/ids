{
 "cells": [
  {
   "cell_type": "code",
   "execution_count": 6,
   "id": "3c44ebcc-5dec-439b-bc6c-d44aa527fc1b",
   "metadata": {},
   "outputs": [
    {
     "name": "stdout",
     "output_type": "stream",
     "text": [
      "After filteration: [{'customer': 'Alice', 'total': 250.5}, {'customer': 'Charlie', 'total': 450}, {'customer': 'Daisy', 'total': 100.0}])\n",
      "After discount: [{'customer': 'Alice', 'total': 250.5}, {'customer': 'Charlie', 'total': 405.0}, {'customer': 'Daisy', 'total': 100.0}])\n",
      "Total after discount: 755.5\n"
     ]
    }
   ],
   "source": [
    "from functools import reduce\n",
    "\n",
    "def filter_orders(orders):\n",
    "    try:\n",
    "        filtered = filter(lambda dic: dic[\"total\"] != \"invalid_data\" and dic[\"total\"] > 0, orders)\n",
    "        return list(filtered)\n",
    "    except Exception as e:\n",
    "        print(f'An error occurred: {e}')\n",
    "        return []\n",
    "\n",
    "def apply_discount(orders):\n",
    "    try:\n",
    "        discounted = map(lambda dic: {\"customer\": dic[\"customer\"], \"total\": dic[\"total\"] - (dic[\"total\"] * 0.10) if dic[\"total\"] > 300 else dic[\"total\"]}, orders)\n",
    "        return list(discounted)\n",
    "    except Exception as e:\n",
    "        print(f'An error occurred: {e}')\n",
    "        return []\n",
    "\n",
    "def calc_total(orders):\n",
    "    try:\n",
    "        total = reduce(lambda x, y: x + y, [dic[\"total\"] for dic in orders])\n",
    "        return total\n",
    "    except Exception as e:\n",
    "        print(f'An error occurred: {e}')\n",
    "        return 0\n",
    "\n",
    "orders = [\n",
    "    {\"customer\": \"Alice\", \"total\": 250.5},\n",
    "    {\"customer\": \"Bob\", \"total\": \"invalid_data\"},\n",
    "    {\"customer\": \"Charlie\", \"total\": 450},\n",
    "    {\"customer\": \"Daisy\", \"total\": 100.0},\n",
    "    {\"customer\": \"Eve\", \"total\": -30},  # Invalid total\n",
    "]\n",
    "\n",
    "filtered = filter_orders(orders)\n",
    "print(f'After filteration: {filtered})')\n",
    "discounted = apply_discount(filtered)\n",
    "print(f'After discount: {discounted})')\n",
    "tot = calc_total(discounted)\n",
    "print(f'Total after discount: {tot}')\n"
   ]
  },
  {
   "cell_type": "code",
   "execution_count": 9,
   "id": "3ed0149e-7354-4a6e-9c6a-38d6f645fbf4",
   "metadata": {},
   "outputs": [
    {
     "name": "stdout",
     "output_type": "stream",
     "text": [
      "1 4 9 16 25 36 49 64 81 100 "
     ]
    }
   ],
   "source": [
    "class SquareIterator:\n",
    "    def __init__ (self, n):\n",
    "        self.n = n\n",
    "        self.curr = 1\n",
    "        \n",
    "    def __iter__ (self):\n",
    "        return self\n",
    "        \n",
    "    def __next__ (self):\n",
    "        if self.curr <= self.n:\n",
    "            sq = self.curr ** 2\n",
    "            self.curr += 1\n",
    "            return sq\n",
    "        raise StopIteration\n",
    "\n",
    "sq = SquareIterator(10)\n",
    "for num in sq:\n",
    "    print(num, end=' ')"
   ]
  },
  {
   "cell_type": "code",
   "execution_count": 15,
   "id": "a9ee6231-7bb5-4287-9d45-6209f042bc49",
   "metadata": {},
   "outputs": [
    {
     "name": "stdout",
     "output_type": "stream",
     "text": [
      "0 1 1 2 3 "
     ]
    }
   ],
   "source": [
    "def fib_generator (n):\n",
    "    yield 0\n",
    "    if n > 1:\n",
    "        yield 1\n",
    "    last = 0\n",
    "    next = 1\n",
    "    for _ in range (2,n):\n",
    "        last, next = next, last + next\n",
    "        yield next\n",
    "\n",
    "for i in fib_generator(5):\n",
    "    print(i, end=' ')"
   ]
  },
  {
   "cell_type": "code",
   "execution_count": 18,
   "id": "f1186b1d-0445-4180-af25-13231386edb2",
   "metadata": {},
   "outputs": [
    {
     "name": "stdout",
     "output_type": "stream",
     "text": [
      "Error: Non-numeric input encountered: five\n",
      "Result: [2.0, 8.0, 6.0]\n"
     ]
    }
   ],
   "source": [
    "class DivisionByZeroError(Exception):\n",
    "    def __init__(self, message=\"Cannot divide by zero\"):\n",
    "        super().__init__(message)\n",
    "\n",
    "class InvalidInputError(Exception):\n",
    "    def __init__(self, message=\"Invalid input for division\"):\n",
    "        super().__init__(message)\n",
    "\n",
    "def divide_numbers(numbers, divisor):\n",
    "    results = []\n",
    "    try:\n",
    "        if divisor == 0:\n",
    "            raise DivisionByZeroError()\n",
    "        \n",
    "        for num in numbers:\n",
    "            try:\n",
    "                result = num / divisor\n",
    "                results.append(result)\n",
    "            except TypeError as e:\n",
    "                raise InvalidInputError(f\"Non-numeric input encountered: {num}\") from e\n",
    "\n",
    "    except DivisionByZeroError as e:\n",
    "        print(f\"Error: {e}\")\n",
    "    except InvalidInputError as e:\n",
    "        print(f\"Error: {e}\")\n",
    "    except Exception as e:\n",
    "        print(f\"An unexpected error occurred: {e}\")\n",
    "    \n",
    "    return results\n",
    "\n",
    "numbers = [10, 40, 30, \"five\"]\n",
    "divisor = 5\n",
    "\n",
    "result = divide_numbers(numbers, divisor)\n",
    "print(\"Result:\", result)\n"
   ]
  },
  {
   "cell_type": "code",
   "execution_count": null,
   "id": "82a13f2d-1cd5-4aa4-80e7-ed10ceba0008",
   "metadata": {},
   "outputs": [],
   "source": []
  }
 ],
 "metadata": {
  "kernelspec": {
   "display_name": "Python 3 (ipykernel)",
   "language": "python",
   "name": "python3"
  },
  "language_info": {
   "codemirror_mode": {
    "name": "ipython",
    "version": 3
   },
   "file_extension": ".py",
   "mimetype": "text/x-python",
   "name": "python",
   "nbconvert_exporter": "python",
   "pygments_lexer": "ipython3",
   "version": "3.10.12"
  }
 },
 "nbformat": 4,
 "nbformat_minor": 5
}
